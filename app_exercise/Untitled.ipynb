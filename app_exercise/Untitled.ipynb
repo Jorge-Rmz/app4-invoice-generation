{
 "cells": [
  {
   "cell_type": "code",
   "execution_count": 2,
   "id": "55e33f2f-9b1e-40ef-9417-4d54320efd50",
   "metadata": {},
   "outputs": [
    {
     "name": "stdout",
     "output_type": "stream",
     "text": [
      "hello\n"
     ]
    }
   ],
   "source": [
    "print(\"hello\")"
   ]
  },
  {
   "cell_type": "code",
   "execution_count": 3,
   "id": "5f86eea8-65d1-4360-8218-c89c4f6e4161",
   "metadata": {},
   "outputs": [],
   "source": [
    "a = \"Hola mundo\""
   ]
  },
  {
   "cell_type": "code",
   "execution_count": 4,
   "id": "614a5e6b-ba20-439c-9d3d-333f6a55c327",
   "metadata": {},
   "outputs": [
    {
     "name": "stdout",
     "output_type": "stream",
     "text": [
      "Hola mundo\n"
     ]
    }
   ],
   "source": [
    "print(a)"
   ]
  },
  {
   "cell_type": "code",
   "execution_count": null,
   "id": "8f3a70a8-a4d2-40d9-8833-a47dcc2b5236",
   "metadata": {},
   "outputs": [],
   "source": []
  }
 ],
 "metadata": {
  "kernelspec": {
   "display_name": "Python 3 (ipykernel)",
   "language": "python",
   "name": "python3"
  },
  "language_info": {
   "codemirror_mode": {
    "name": "ipython",
    "version": 3
   },
   "file_extension": ".py",
   "mimetype": "text/x-python",
   "name": "python",
   "nbconvert_exporter": "python",
   "pygments_lexer": "ipython3",
   "version": "3.12.4"
  }
 },
 "nbformat": 4,
 "nbformat_minor": 5
}
